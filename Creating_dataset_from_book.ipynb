{
  "nbformat": 4,
  "nbformat_minor": 0,
  "metadata": {
    "colab": {
      "provenance": [],
      "collapsed_sections": [
        "uH_vdDov697r",
        "5_Qn-IZe7I_a"
      ],
      "machine_shape": "hm",
      "authorship_tag": "ABX9TyM6/Xsa8CqlpNCNVuHOe5OU",
      "include_colab_link": true
    },
    "kernelspec": {
      "name": "python3",
      "display_name": "Python 3"
    },
    "language_info": {
      "name": "python"
    }
  },
  "cells": [
    {
      "cell_type": "markdown",
      "metadata": {
        "id": "view-in-github",
        "colab_type": "text"
      },
      "source": [
        "<a href=\"https://colab.research.google.com/github/ManuSinghYadav/Mistral-7B-ft-Jawaharlal-Nehru/blob/main/Creating_dataset_from_book.ipynb\" target=\"_parent\"><img src=\"https://colab.research.google.com/assets/colab-badge.svg\" alt=\"Open In Colab\"/></a>"
      ]
    },
    {
      "cell_type": "markdown",
      "source": [
        "####Here, we will perform basic text preprocessing to convert the book into a dataset of passages."
      ],
      "metadata": {
        "id": "TdzgEDs25u3x"
      }
    },
    {
      "cell_type": "markdown",
      "source": [
        "###Importing libraries and dataset"
      ],
      "metadata": {
        "id": "uH_vdDov697r"
      }
    },
    {
      "cell_type": "markdown",
      "source": [
        "Downloaded the book \"Discovery of India\" by Jawaharlal Nehru from [here](https://library.bjp.org/jspui/bitstream/123456789/277/1/The-Discovery-Of-India-Jawaharlal-Nehru.pdf).\n",
        "\n",
        "Now upload the book here in colab."
      ],
      "metadata": {
        "id": "0Ycnwi23xtMm"
      }
    },
    {
      "cell_type": "code",
      "source": [
        "!apt-get install -y poppler-utils"
      ],
      "metadata": {
        "colab": {
          "base_uri": "https://localhost:8080/"
        },
        "id": "kMHXSNoiLd7D",
        "outputId": "849747c5-640b-4da7-9464-a9234ea4c275"
      },
      "execution_count": 10,
      "outputs": [
        {
          "output_type": "stream",
          "name": "stdout",
          "text": [
            "Reading package lists... Done\n",
            "Building dependency tree... Done\n",
            "Reading state information... Done\n",
            "The following NEW packages will be installed:\n",
            "  poppler-utils\n",
            "0 upgraded, 1 newly installed, 0 to remove and 39 not upgraded.\n",
            "Need to get 186 kB of archives.\n",
            "After this operation, 696 kB of additional disk space will be used.\n",
            "Get:1 http://archive.ubuntu.com/ubuntu jammy-updates/main amd64 poppler-utils amd64 22.02.0-2ubuntu0.3 [186 kB]\n",
            "Fetched 186 kB in 1s (337 kB/s)\n",
            "Selecting previously unselected package poppler-utils.\n",
            "(Reading database ... 121753 files and directories currently installed.)\n",
            "Preparing to unpack .../poppler-utils_22.02.0-2ubuntu0.3_amd64.deb ...\n",
            "Unpacking poppler-utils (22.02.0-2ubuntu0.3) ...\n",
            "Setting up poppler-utils (22.02.0-2ubuntu0.3) ...\n",
            "Processing triggers for man-db (2.10.2-1) ...\n"
          ]
        }
      ]
    },
    {
      "cell_type": "code",
      "source": [
        "import pandas as pd"
      ],
      "metadata": {
        "id": "_i5lNQXQ7MKh"
      },
      "execution_count": 11,
      "outputs": []
    },
    {
      "cell_type": "markdown",
      "source": [
        "###Convert the book (pdf) into text format."
      ],
      "metadata": {
        "id": "5_Qn-IZe7I_a"
      }
    },
    {
      "cell_type": "code",
      "execution_count": 1,
      "metadata": {
        "id": "7J6m5t5XK1r6"
      },
      "outputs": [],
      "source": [
        "!mv DOI.pdf doi.pdf"
      ]
    },
    {
      "cell_type": "code",
      "source": [
        "!pdftotext -nopgbrk doi.pdf"
      ],
      "metadata": {
        "id": "E3V_iAJZLaJW"
      },
      "execution_count": null,
      "outputs": []
    },
    {
      "cell_type": "code",
      "source": [
        "!sed -r ':a /[a-zA-Z,\\ ]$/N;s/(.)\\n/\\1 /;ta' doi.txt | sed 's/.*/\\L&/; s/[[:lower:]]\\{1\\}/\\U&/1' | sed 's/\\b\\([[:alpha:]]\\)[[:space:]]\\+\\([[:alpha:]]\\)/\\1\\2/g' > doi_reformat.txt"
      ],
      "metadata": {
        "id": "uZ9hRnuMMkKp"
      },
      "execution_count": 4,
      "outputs": []
    },
    {
      "cell_type": "code",
      "source": [
        "#To remove numbers\n",
        "!sed -i 's/[[:digit:]]\\+$//' doi_reformat.txt"
      ],
      "metadata": {
        "id": "QVBIUJ5NUvUp"
      },
      "execution_count": 5,
      "outputs": []
    },
    {
      "cell_type": "markdown",
      "source": [
        "Now download the file and remo:ve the index portion manually and again reupload it."
      ],
      "metadata": {
        "id": "liDHmkQYxoh6"
      }
    },
    {
      "cell_type": "markdown",
      "source": [
        "###Gather chapters to target"
      ],
      "metadata": {
        "id": "8PBU8qvYa1iW"
      }
    },
    {
      "cell_type": "code",
      "source": [
        "with open(\"doi_reformat.txt\") as f:\n",
        "    file_content = f.read()\n",
        "\n",
        "chapters=file_content.split(\"\\n\\n\")"
      ],
      "metadata": {
        "id": "ua13eX2lW6qX"
      },
      "execution_count": 12,
      "outputs": []
    },
    {
      "cell_type": "code",
      "source": [
        "chapters[0]"
      ],
      "metadata": {
        "colab": {
          "base_uri": "https://localhost:8080/",
          "height": 152
        },
        "id": "4EzJYTBAXM9K",
        "outputId": "b39fef71-6e6b-497f-984b-77244ab71278"
      },
      "execution_count": 13,
      "outputs": [
        {
          "output_type": "execute_result",
          "data": {
            "text/plain": [
              "\"It is more than twenty months since we we re brought here, more than twenty months of my ninth term of imprisonment.\\nTh enew moon, ashimmering crescent in the darkening sky, greeted us on our arrival here. th ebright fortnight of the waxing moon ha dbegun. ever since then each coming of the new moon has been areminder to me that another mo nt hof my imprisonment is over. so it was with my last term of imprisonment which began with the new moon, just after the deepavali, the festival of light. th emoon, ever acompanion to me in prison, has grown more friendly with closer acquaintance, areminder of the loveliness of this world, of the waxing and waning of life, of light following darkness, of death and resurrection following each other in interminable succession. ever changing, yet ever the same, ihave watched it in its different phases and its many moods in the evening, as the shadows lengthen, in the still hours of the night, an dwhen the breath an dwhisper of dawn bring promise of the coming day. ho whelpful is the moon in counting the days an dthe months, for the size an dshape of the moon, when it is visible, indicate the day of the mo nt hwith afair measure of exactitude.\\nIt is an easy calendar (though it must be adjusted from time to time), and for the peasant in the field the most-convenient one to indicate the passage of the days and the gradual changing of the seasons.\\nThree weeks we spent here cut off completely from all news of the outside world. th er ewere no contacts of any kind, no interviews, no letters, no newspapers, no radio. even our presence here was supposed to be astate secret unknown to any except to the officials in charge of us, apoor secret, for all in di aknew where we were.\\nTh en newspapers were allowed and, some weeks later, letters from near relatives dealing with domestic affairs. but no  interviews during these 20 months, no other contacts.\\nTh enewspapers contained heavily censored news. yet they gave us some idea of the war that was consuming more than half the world, and of how it fared with our people in india. little we knew about these people of ours except that scores of thousands lay in prison or internment camp without trial, that thousands ha dbeen shot to death, that tens of thousands ha dbeen driven out of schools and colleges, that something indistinguishable from martial law prevailed over the whole country, that terror an dfrightfulness darkened the land. th ey were worse off, far worse than us, those scores of thousands in prison, like us, without trial, for there were not only no interviews but also no letters or newspapers for them, and even books were seldom allowed. ma ny sickened for lack of healthy food, some of our dear ones died for lack of proper care an dtreatment.\\nTh er ewere ma ny thousands of prisoners of war kept in india, mostly from italy. we compared their lot with the lot of our own people. we were told that they were governed by the geneva convention. but there was no convention or law or rule to govern the conditions under which in di an prisoners an ddetenus had to exist, except such ordinances which it pleased our british rulers to issue from time to time.\\nFamine famine came, ghastly, staggering, horrible beyond words. in ma la ba r , in bijapur, in orissa, and, above all, in the rich an dfertile province of bengal, men and women and little children died in their thousands daily for lack of food. th ey dropped down dead before the palaces of calcutta, their corpses lay in the mu dhuts of bengal'sinnumerable villages and covered the roads and fields of its rural areas. me nwere dying all over the world an dkilling each other in battle; usually aquick death, often abrave death, death for acause, death with apurpose, death which seemed in this mad world of ours an inexorable logic of events, asudden end to the life we could not mould or control. death was common enough everywhere.\\nBut here death had no purpose, no logic, no necessity; it was the result of man'sincompetence and callousness, ma n - ma de , aslow creeping thing of horror with nothing to redeem it, life merging and fading into death, with death looking out of the shrunken eyes an dwithered frame while life still lingered for awhile. and so it was not considered right or proper to mention it; it was not good form to talk or write of unsavoury topics. to do so was to 'dramatize' an unfortunate situation. false reports \""
            ],
            "application/vnd.google.colaboratory.intrinsic+json": {
              "type": "string"
            }
          },
          "metadata": {},
          "execution_count": 13
        }
      ]
    },
    {
      "cell_type": "code",
      "source": [
        "len(chapters)"
      ],
      "metadata": {
        "colab": {
          "base_uri": "https://localhost:8080/"
        },
        "id": "azezdj0j6g2y",
        "outputId": "632be040-da6a-4dcf-e04b-6dbdcca0a92e"
      },
      "execution_count": 14,
      "outputs": [
        {
          "output_type": "execute_result",
          "data": {
            "text/plain": [
              "680"
            ]
          },
          "metadata": {},
          "execution_count": 14
        }
      ]
    },
    {
      "cell_type": "markdown",
      "source": [
        "###Sepreating each paragraphs"
      ],
      "metadata": {
        "id": "Dbfb7QY2cmek"
      }
    },
    {
      "cell_type": "code",
      "source": [
        "# Define minimum and maximum lengths to ensure a good interview flow\n",
        "passage_minlen=300  # if paragraph <300 chars -> merge with next\n",
        "passage_maxlen=2000  # if paragraph >2k chars -> split"
      ],
      "metadata": {
        "id": "BeEatc0d_1vz"
      },
      "execution_count": 15,
      "outputs": []
    },
    {
      "cell_type": "code",
      "source": [
        "# Process the chapters into suitable interview passages\n",
        "passages=[]\n",
        "for chap in chapters:\n",
        "    passage=\"\"\n",
        "    for par in chap.split(\"\\n\"):\n",
        "        if(len(passage)<passage_minlen) or not passage[-1]==\".\" and len(passage)<passage_maxlen:\n",
        "            passage+=\"\\n\" + par\n",
        "        else:\n",
        "            passages.append(passage.strip().replace(\"\\n\", \" \"))\n",
        "            passage=par\n"
      ],
      "metadata": {
        "id": "aurGPdI56ht0"
      },
      "execution_count": 16,
      "outputs": []
    },
    {
      "cell_type": "code",
      "source": [
        "passages[409]"
      ],
      "metadata": {
        "colab": {
          "base_uri": "https://localhost:8080/",
          "height": 113
        },
        "id": "4RxsvPNq_81C",
        "outputId": "e0f6f0ce-9120-4228-8325-f8e73763fd66"
      },
      "execution_count": 17,
      "outputs": [
        {
          "output_type": "execute_result",
          "data": {
            "text/plain": [
              "'The present and found joy and harmony in the beauty they saw around them or which they themselves created. the indians found this joy and harmony also in the present, but, at the same time, their eyes were turned towards deeper knowledge and their minds trafficked with strange questions. the chinese, fully aware of these questions and their mystery, in their wisdom avoided entanglement with them. in their different ways each tried to express the fullness and beauty of life. history has shown that india and china had stronger foundations and greater staying power; they have thus far survived, though they have been badly shaken and have greatly deteriorated, and the future is obscure.'"
            ],
            "application/vnd.google.colaboratory.intrinsic+json": {
              "type": "string"
            }
          },
          "metadata": {},
          "execution_count": 17
        }
      ]
    },
    {
      "cell_type": "code",
      "source": [
        "len(passages)"
      ],
      "metadata": {
        "colab": {
          "base_uri": "https://localhost:8080/"
        },
        "id": "PCSIxA2mBRlo",
        "outputId": "a6e6a68e-08b7-4d86-ee05-3a7a2ad89196"
      },
      "execution_count": 18,
      "outputs": [
        {
          "output_type": "execute_result",
          "data": {
            "text/plain": [
              "1671"
            ]
          },
          "metadata": {},
          "execution_count": 18
        }
      ]
    },
    {
      "cell_type": "markdown",
      "source": [
        "###Creating a dataframe of the passages"
      ],
      "metadata": {
        "id": "4OWtJY_8cvft"
      }
    },
    {
      "cell_type": "code",
      "source": [
        "df = pd.DataFrame({\"Passages\": passages})"
      ],
      "metadata": {
        "id": "rwrOZ5f440RM"
      },
      "execution_count": 21,
      "outputs": []
    },
    {
      "cell_type": "code",
      "source": [
        "df"
      ],
      "metadata": {
        "colab": {
          "base_uri": "https://localhost:8080/",
          "height": 1758
        },
        "id": "BhroK1sl5WH3",
        "outputId": "c3e3b4d9-3bfe-42ca-8dc8-1b52b106a04b"
      },
      "execution_count": 22,
      "outputs": [
        {
          "output_type": "execute_result",
          "data": {
            "text/plain": [
              "                                               Passages\n",
              "0     It is more than twenty months since we we re b...\n",
              "1     It is an easy calendar (though it must be adju...\n",
              "2     Th en newspapers were allowed and, some weeks ...\n",
              "3     Th er ewere ma ny thousands of prisoners of wa...\n",
              "4     Famine famine came, ghastly, staggering, horri...\n",
              "...                                                 ...\n",
              "1666  Was far more than we had imagined. these three...\n",
              "1667  The smooth surface was ruffled and cracks appe...\n",
              "1668  The war ended and the atom bomb became the sym...\n",
              "1669  Akbar, emperor, 35, 52, 142, 242, 257-61, 263-...\n",
              "1670  Wv  oxford  oxford india paperbacks the discov...\n",
              "\n",
              "[1671 rows x 1 columns]"
            ],
            "text/html": [
              "\n",
              "  <div id=\"df-e3223279-353c-4c47-af1e-5e1c25440126\" class=\"colab-df-container\">\n",
              "    <div>\n",
              "<style scoped>\n",
              "    .dataframe tbody tr th:only-of-type {\n",
              "        vertical-align: middle;\n",
              "    }\n",
              "\n",
              "    .dataframe tbody tr th {\n",
              "        vertical-align: top;\n",
              "    }\n",
              "\n",
              "    .dataframe thead th {\n",
              "        text-align: right;\n",
              "    }\n",
              "</style>\n",
              "<table border=\"1\" class=\"dataframe\">\n",
              "  <thead>\n",
              "    <tr style=\"text-align: right;\">\n",
              "      <th></th>\n",
              "      <th>Passages</th>\n",
              "    </tr>\n",
              "  </thead>\n",
              "  <tbody>\n",
              "    <tr>\n",
              "      <th>0</th>\n",
              "      <td>It is more than twenty months since we we re b...</td>\n",
              "    </tr>\n",
              "    <tr>\n",
              "      <th>1</th>\n",
              "      <td>It is an easy calendar (though it must be adju...</td>\n",
              "    </tr>\n",
              "    <tr>\n",
              "      <th>2</th>\n",
              "      <td>Th en newspapers were allowed and, some weeks ...</td>\n",
              "    </tr>\n",
              "    <tr>\n",
              "      <th>3</th>\n",
              "      <td>Th er ewere ma ny thousands of prisoners of wa...</td>\n",
              "    </tr>\n",
              "    <tr>\n",
              "      <th>4</th>\n",
              "      <td>Famine famine came, ghastly, staggering, horri...</td>\n",
              "    </tr>\n",
              "    <tr>\n",
              "      <th>...</th>\n",
              "      <td>...</td>\n",
              "    </tr>\n",
              "    <tr>\n",
              "      <th>1666</th>\n",
              "      <td>Was far more than we had imagined. these three...</td>\n",
              "    </tr>\n",
              "    <tr>\n",
              "      <th>1667</th>\n",
              "      <td>The smooth surface was ruffled and cracks appe...</td>\n",
              "    </tr>\n",
              "    <tr>\n",
              "      <th>1668</th>\n",
              "      <td>The war ended and the atom bomb became the sym...</td>\n",
              "    </tr>\n",
              "    <tr>\n",
              "      <th>1669</th>\n",
              "      <td>Akbar, emperor, 35, 52, 142, 242, 257-61, 263-...</td>\n",
              "    </tr>\n",
              "    <tr>\n",
              "      <th>1670</th>\n",
              "      <td>Wv  oxford  oxford india paperbacks the discov...</td>\n",
              "    </tr>\n",
              "  </tbody>\n",
              "</table>\n",
              "<p>1671 rows × 1 columns</p>\n",
              "</div>\n",
              "    <div class=\"colab-df-buttons\">\n",
              "\n",
              "  <div class=\"colab-df-container\">\n",
              "    <button class=\"colab-df-convert\" onclick=\"convertToInteractive('df-e3223279-353c-4c47-af1e-5e1c25440126')\"\n",
              "            title=\"Convert this dataframe to an interactive table.\"\n",
              "            style=\"display:none;\">\n",
              "\n",
              "  <svg xmlns=\"http://www.w3.org/2000/svg\" height=\"24px\" viewBox=\"0 -960 960 960\">\n",
              "    <path d=\"M120-120v-720h720v720H120Zm60-500h600v-160H180v160Zm220 220h160v-160H400v160Zm0 220h160v-160H400v160ZM180-400h160v-160H180v160Zm440 0h160v-160H620v160ZM180-180h160v-160H180v160Zm440 0h160v-160H620v160Z\"/>\n",
              "  </svg>\n",
              "    </button>\n",
              "\n",
              "  <style>\n",
              "    .colab-df-container {\n",
              "      display:flex;\n",
              "      gap: 12px;\n",
              "    }\n",
              "\n",
              "    .colab-df-convert {\n",
              "      background-color: #E8F0FE;\n",
              "      border: none;\n",
              "      border-radius: 50%;\n",
              "      cursor: pointer;\n",
              "      display: none;\n",
              "      fill: #1967D2;\n",
              "      height: 32px;\n",
              "      padding: 0 0 0 0;\n",
              "      width: 32px;\n",
              "    }\n",
              "\n",
              "    .colab-df-convert:hover {\n",
              "      background-color: #E2EBFA;\n",
              "      box-shadow: 0px 1px 2px rgba(60, 64, 67, 0.3), 0px 1px 3px 1px rgba(60, 64, 67, 0.15);\n",
              "      fill: #174EA6;\n",
              "    }\n",
              "\n",
              "    .colab-df-buttons div {\n",
              "      margin-bottom: 4px;\n",
              "    }\n",
              "\n",
              "    [theme=dark] .colab-df-convert {\n",
              "      background-color: #3B4455;\n",
              "      fill: #D2E3FC;\n",
              "    }\n",
              "\n",
              "    [theme=dark] .colab-df-convert:hover {\n",
              "      background-color: #434B5C;\n",
              "      box-shadow: 0px 1px 3px 1px rgba(0, 0, 0, 0.15);\n",
              "      filter: drop-shadow(0px 1px 2px rgba(0, 0, 0, 0.3));\n",
              "      fill: #FFFFFF;\n",
              "    }\n",
              "  </style>\n",
              "\n",
              "    <script>\n",
              "      const buttonEl =\n",
              "        document.querySelector('#df-e3223279-353c-4c47-af1e-5e1c25440126 button.colab-df-convert');\n",
              "      buttonEl.style.display =\n",
              "        google.colab.kernel.accessAllowed ? 'block' : 'none';\n",
              "\n",
              "      async function convertToInteractive(key) {\n",
              "        const element = document.querySelector('#df-e3223279-353c-4c47-af1e-5e1c25440126');\n",
              "        const dataTable =\n",
              "          await google.colab.kernel.invokeFunction('convertToInteractive',\n",
              "                                                    [key], {});\n",
              "        if (!dataTable) return;\n",
              "\n",
              "        const docLinkHtml = 'Like what you see? Visit the ' +\n",
              "          '<a target=\"_blank\" href=https://colab.research.google.com/notebooks/data_table.ipynb>data table notebook</a>'\n",
              "          + ' to learn more about interactive tables.';\n",
              "        element.innerHTML = '';\n",
              "        dataTable['output_type'] = 'display_data';\n",
              "        await google.colab.output.renderOutput(dataTable, element);\n",
              "        const docLink = document.createElement('div');\n",
              "        docLink.innerHTML = docLinkHtml;\n",
              "        element.appendChild(docLink);\n",
              "      }\n",
              "    </script>\n",
              "  </div>\n",
              "\n",
              "\n",
              "<div id=\"df-9c89c58d-ac1b-4cfa-97a3-085a9039eee3\">\n",
              "  <button class=\"colab-df-quickchart\" onclick=\"quickchart('df-9c89c58d-ac1b-4cfa-97a3-085a9039eee3')\"\n",
              "            title=\"Suggest charts\"\n",
              "            style=\"display:none;\">\n",
              "\n",
              "<svg xmlns=\"http://www.w3.org/2000/svg\" height=\"24px\"viewBox=\"0 0 24 24\"\n",
              "     width=\"24px\">\n",
              "    <g>\n",
              "        <path d=\"M19 3H5c-1.1 0-2 .9-2 2v14c0 1.1.9 2 2 2h14c1.1 0 2-.9 2-2V5c0-1.1-.9-2-2-2zM9 17H7v-7h2v7zm4 0h-2V7h2v10zm4 0h-2v-4h2v4z\"/>\n",
              "    </g>\n",
              "</svg>\n",
              "  </button>\n",
              "\n",
              "<style>\n",
              "  .colab-df-quickchart {\n",
              "      --bg-color: #E8F0FE;\n",
              "      --fill-color: #1967D2;\n",
              "      --hover-bg-color: #E2EBFA;\n",
              "      --hover-fill-color: #174EA6;\n",
              "      --disabled-fill-color: #AAA;\n",
              "      --disabled-bg-color: #DDD;\n",
              "  }\n",
              "\n",
              "  [theme=dark] .colab-df-quickchart {\n",
              "      --bg-color: #3B4455;\n",
              "      --fill-color: #D2E3FC;\n",
              "      --hover-bg-color: #434B5C;\n",
              "      --hover-fill-color: #FFFFFF;\n",
              "      --disabled-bg-color: #3B4455;\n",
              "      --disabled-fill-color: #666;\n",
              "  }\n",
              "\n",
              "  .colab-df-quickchart {\n",
              "    background-color: var(--bg-color);\n",
              "    border: none;\n",
              "    border-radius: 50%;\n",
              "    cursor: pointer;\n",
              "    display: none;\n",
              "    fill: var(--fill-color);\n",
              "    height: 32px;\n",
              "    padding: 0;\n",
              "    width: 32px;\n",
              "  }\n",
              "\n",
              "  .colab-df-quickchart:hover {\n",
              "    background-color: var(--hover-bg-color);\n",
              "    box-shadow: 0 1px 2px rgba(60, 64, 67, 0.3), 0 1px 3px 1px rgba(60, 64, 67, 0.15);\n",
              "    fill: var(--button-hover-fill-color);\n",
              "  }\n",
              "\n",
              "  .colab-df-quickchart-complete:disabled,\n",
              "  .colab-df-quickchart-complete:disabled:hover {\n",
              "    background-color: var(--disabled-bg-color);\n",
              "    fill: var(--disabled-fill-color);\n",
              "    box-shadow: none;\n",
              "  }\n",
              "\n",
              "  .colab-df-spinner {\n",
              "    border: 2px solid var(--fill-color);\n",
              "    border-color: transparent;\n",
              "    border-bottom-color: var(--fill-color);\n",
              "    animation:\n",
              "      spin 1s steps(1) infinite;\n",
              "  }\n",
              "\n",
              "  @keyframes spin {\n",
              "    0% {\n",
              "      border-color: transparent;\n",
              "      border-bottom-color: var(--fill-color);\n",
              "      border-left-color: var(--fill-color);\n",
              "    }\n",
              "    20% {\n",
              "      border-color: transparent;\n",
              "      border-left-color: var(--fill-color);\n",
              "      border-top-color: var(--fill-color);\n",
              "    }\n",
              "    30% {\n",
              "      border-color: transparent;\n",
              "      border-left-color: var(--fill-color);\n",
              "      border-top-color: var(--fill-color);\n",
              "      border-right-color: var(--fill-color);\n",
              "    }\n",
              "    40% {\n",
              "      border-color: transparent;\n",
              "      border-right-color: var(--fill-color);\n",
              "      border-top-color: var(--fill-color);\n",
              "    }\n",
              "    60% {\n",
              "      border-color: transparent;\n",
              "      border-right-color: var(--fill-color);\n",
              "    }\n",
              "    80% {\n",
              "      border-color: transparent;\n",
              "      border-right-color: var(--fill-color);\n",
              "      border-bottom-color: var(--fill-color);\n",
              "    }\n",
              "    90% {\n",
              "      border-color: transparent;\n",
              "      border-bottom-color: var(--fill-color);\n",
              "    }\n",
              "  }\n",
              "</style>\n",
              "\n",
              "  <script>\n",
              "    async function quickchart(key) {\n",
              "      const quickchartButtonEl =\n",
              "        document.querySelector('#' + key + ' button');\n",
              "      quickchartButtonEl.disabled = true;  // To prevent multiple clicks.\n",
              "      quickchartButtonEl.classList.add('colab-df-spinner');\n",
              "      try {\n",
              "        const charts = await google.colab.kernel.invokeFunction(\n",
              "            'suggestCharts', [key], {});\n",
              "      } catch (error) {\n",
              "        console.error('Error during call to suggestCharts:', error);\n",
              "      }\n",
              "      quickchartButtonEl.classList.remove('colab-df-spinner');\n",
              "      quickchartButtonEl.classList.add('colab-df-quickchart-complete');\n",
              "    }\n",
              "    (() => {\n",
              "      let quickchartButtonEl =\n",
              "        document.querySelector('#df-9c89c58d-ac1b-4cfa-97a3-085a9039eee3 button');\n",
              "      quickchartButtonEl.style.display =\n",
              "        google.colab.kernel.accessAllowed ? 'block' : 'none';\n",
              "    })();\n",
              "  </script>\n",
              "</div>\n",
              "\n",
              "  <div id=\"id_601b66b8-1761-4810-8f76-adc78cdb37c5\">\n",
              "    <style>\n",
              "      .colab-df-generate {\n",
              "        background-color: #E8F0FE;\n",
              "        border: none;\n",
              "        border-radius: 50%;\n",
              "        cursor: pointer;\n",
              "        display: none;\n",
              "        fill: #1967D2;\n",
              "        height: 32px;\n",
              "        padding: 0 0 0 0;\n",
              "        width: 32px;\n",
              "      }\n",
              "\n",
              "      .colab-df-generate:hover {\n",
              "        background-color: #E2EBFA;\n",
              "        box-shadow: 0px 1px 2px rgba(60, 64, 67, 0.3), 0px 1px 3px 1px rgba(60, 64, 67, 0.15);\n",
              "        fill: #174EA6;\n",
              "      }\n",
              "\n",
              "      [theme=dark] .colab-df-generate {\n",
              "        background-color: #3B4455;\n",
              "        fill: #D2E3FC;\n",
              "      }\n",
              "\n",
              "      [theme=dark] .colab-df-generate:hover {\n",
              "        background-color: #434B5C;\n",
              "        box-shadow: 0px 1px 3px 1px rgba(0, 0, 0, 0.15);\n",
              "        filter: drop-shadow(0px 1px 2px rgba(0, 0, 0, 0.3));\n",
              "        fill: #FFFFFF;\n",
              "      }\n",
              "    </style>\n",
              "    <button class=\"colab-df-generate\" onclick=\"generateWithVariable('df')\"\n",
              "            title=\"Generate code using this dataframe.\"\n",
              "            style=\"display:none;\">\n",
              "\n",
              "  <svg xmlns=\"http://www.w3.org/2000/svg\" height=\"24px\"viewBox=\"0 0 24 24\"\n",
              "       width=\"24px\">\n",
              "    <path d=\"M7,19H8.4L18.45,9,17,7.55,7,17.6ZM5,21V16.75L18.45,3.32a2,2,0,0,1,2.83,0l1.4,1.43a1.91,1.91,0,0,1,.58,1.4,1.91,1.91,0,0,1-.58,1.4L9.25,21ZM18.45,9,17,7.55Zm-12,3A5.31,5.31,0,0,0,4.9,8.1,5.31,5.31,0,0,0,1,6.5,5.31,5.31,0,0,0,4.9,4.9,5.31,5.31,0,0,0,6.5,1,5.31,5.31,0,0,0,8.1,4.9,5.31,5.31,0,0,0,12,6.5,5.46,5.46,0,0,0,6.5,12Z\"/>\n",
              "  </svg>\n",
              "    </button>\n",
              "    <script>\n",
              "      (() => {\n",
              "      const buttonEl =\n",
              "        document.querySelector('#id_601b66b8-1761-4810-8f76-adc78cdb37c5 button.colab-df-generate');\n",
              "      buttonEl.style.display =\n",
              "        google.colab.kernel.accessAllowed ? 'block' : 'none';\n",
              "\n",
              "      buttonEl.onclick = () => {\n",
              "        google.colab.notebook.generateWithVariable('df');\n",
              "      }\n",
              "      })();\n",
              "    </script>\n",
              "  </div>\n",
              "\n",
              "    </div>\n",
              "  </div>\n"
            ],
            "application/vnd.google.colaboratory.intrinsic+json": {
              "type": "dataframe",
              "variable_name": "df",
              "summary": "{\n  \"name\": \"df\",\n  \"rows\": 1671,\n  \"fields\": [\n    {\n      \"column\": \"Passages\",\n      \"properties\": {\n        \"dtype\": \"string\",\n        \"num_unique_values\": 1671,\n        \"samples\": [\n          \"These sanskrit plays were undoubtedly meant for acting and elaborate stage-directions are given, and rules for seating the audience. unlike the practice in ancient greece, actresses took part in the presentation. in both greek and sanskrit there is asensitive awareness of nature and afeeling of being apart of that nature. there is astrong lyric element and poetry seems to be an integral part of life, full of meaning and significance.\",\n          \"In the second half of the fourteenth century java completely conquered the sailendra empire of srivijaya. This ja va nstate which now rose into prominence had along history behind it. it was abrahminical state which had continued its attachment to the older faith in spite of the spread of buddhism. it had resisted the political and economic sway of the sailendra empire of srivijaya even when more than half of java itself was occupied by the latter. it consisted of acommunity of sea faring folk intent on trade and passionately fond of building great structures in stone. originally it was called the kingdom of singhasari, but in 1292 anew city, majapahit, was founded and from this grew the empire of majapahit which succeeded srivijaya as the dominant power in south-east asia. majapahit insulted some chinese envoys sent by kublai khan and was punished for this by achinese expedition. probably the javanese learnt from the chinese the use of gunpowder and this helped them finally to defeat the sailendras.\",\n          \"The early centuries are vague and not much is known except that many small states existed. gradually they consolidate themselves and by the fifth century great cities take shape. by the eighth century seafaring empires have arisen, partly centralized but also exercising avague suzerainty over many lands. sometimes these dependencies became independent and even presumed to attack the central power and this has led to some confusion in our understanding of those periods.\"\n        ],\n        \"semantic_type\": \"\",\n        \"description\": \"\"\n      }\n    }\n  ]\n}"
            }
          },
          "metadata": {},
          "execution_count": 22
        }
      ]
    },
    {
      "cell_type": "markdown",
      "source": [
        "Export this dataframe to CSV and download it so that we'll have it handy for use in upcoming notebooks."
      ],
      "metadata": {
        "id": "WvJAPfYTdxRC"
      }
    },
    {
      "cell_type": "code",
      "source": [
        "df.to_csv(\"doi_passages.csv\", index=False)"
      ],
      "metadata": {
        "id": "Tu_WB2kpaBM9"
      },
      "execution_count": 23,
      "outputs": []
    }
  ]
}